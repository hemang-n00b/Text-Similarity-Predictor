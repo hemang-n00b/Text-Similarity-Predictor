{
 "cells": [
  {
   "cell_type": "code",
   "execution_count": 2,
   "metadata": {},
   "outputs": [
    {
     "name": "stderr",
     "output_type": "stream",
     "text": [
      "/home/divyansh/.local/lib/python3.11/site-packages/tqdm/auto.py:21: TqdmWarning: IProgress not found. Please update jupyter and ipywidgets. See https://ipywidgets.readthedocs.io/en/stable/user_install.html\n",
      "  from .autonotebook import tqdm as notebook_tqdm\n",
      "[nltk_data] Downloading package stopwords to\n",
      "[nltk_data]     /home/divyansh/nltk_data...\n",
      "[nltk_data]   Package stopwords is already up-to-date!\n"
     ]
    }
   ],
   "source": [
    "from datasets import load_dataset\n",
    "from sklearn.feature_extraction.text import TfidfVectorizer\n",
    "dataset = load_dataset(\"PiC/phrase_similarity\")\n",
    "import nltk\n",
    "nltk.download('stopwords')\n",
    "from nltk.corpus import stopwords\n"
   ]
  },
  {
   "cell_type": "code",
   "execution_count": 3,
   "metadata": {},
   "outputs": [],
   "source": [
    "training_data = dataset['train']\n",
    "validation_data = dataset['validation']\n",
    "test_data = dataset['test']\n",
    "\n",
    "with open('GloVe/vectors.txt', 'r') as f:\n",
    "    vectors=f.readlines()\n",
    "import numpy as np\n",
    "def cosine_similarity(v1, v2):\n",
    "    return np.dot(v1, v2) / (np.linalg.norm(v1) * np.linalg.norm(v2))\n",
    "    \n",
    "\n",
    "training_vectors=[]\n",
    "def remove_stopwords(sentence):\n",
    "    stop_words = set(stopwords.words('english'))\n",
    "    words = sentence.split()\n",
    "    words = [word for word in words if word not in stop_words]\n",
    "    return ' '.join(words)\n",
    "\n",
    "\n",
    "def get_avg(phrase):\n",
    "\n",
    "    words = phrase.split()\n",
    "    avg = [0]*50\n",
    "    for word in words:\n",
    "        for vector in vectors:\n",
    "            if word in vector:\n",
    "                vector = vector.split()\n",
    "                for i in range(50):\n",
    "                    avg[i] += float(vector[i+1])\n",
    "                break\n",
    "    for i in range(50):\n",
    "        avg[i] /= len(words)\n",
    "    return avg"
   ]
  },
  {
   "cell_type": "code",
   "execution_count": 4,
   "metadata": {},
   "outputs": [],
   "source": [
    "\n",
    "for i in range(len(training_data)):\n",
    "    training_data[i]['phrase1'] = training_data[i]['phrase1'].lower()\n",
    "    training_data[i]['phrase2'] = training_data[i]['phrase2'].lower()\n",
    "    \n",
    "    training_data[i]['phrase1'] = remove_stopwords(training_data[i]['phrase1'])\n",
    "    training_data[i]['phrase2'] = remove_stopwords(training_data[i]['phrase2'])\n",
    "    \n",
    "    avg1=get_avg(training_data[i]['phrase1'])\n",
    "    avg2=get_avg(training_data[i]['phrase2'])\n",
    "    \n",
    "    f1 = all(x == 0 for x in avg1)\n",
    "    f2 = all(x == 0 for x in avg2)\n",
    "    if f1 or f2:\n",
    "        continue\n",
    "    else:\n",
    "        training_vectors.append([avg1,avg2,training_data[i]['label']])\n",
    "\n",
    "   "
   ]
  },
  {
   "cell_type": "code",
   "execution_count": 5,
   "metadata": {},
   "outputs": [],
   "source": [
    "import numpy as np\n",
    "from sklearn.model_selection import train_test_split\n",
    "from sklearn.linear_model import LogisticRegression\n",
    "from sklearn.metrics import accuracy_score\n",
    "from sklearn.decomposition import PCA\n",
    "from sklearn.preprocessing import StandardScaler\n",
    "C_values = [0.01, 0.1, 1, 10, 100]\n",
    "\n",
    "model = LogisticRegression(C=1)\n",
    "\n",
    "l1 = np.array([vec[0] for vec in training_vectors])\n",
    "l2 = np.array([vec[1] for vec in training_vectors])\n",
    "\n",
    "X = np.concatenate((l1,l2),axis=1)\n",
    "y = np.array([vec[2] for vec in training_vectors])   \n",
    "\n",
    "    ##preprocess X\n",
    "X = (X - np.mean(X, axis=0)) / np.std(X, axis=0)\n",
    "mean = np.mean(X, axis=0)\n",
    "std = np.std(X, axis=0)\n",
    "    \n",
    "scaler = StandardScaler()\n",
    "X = scaler.fit_transform(X)\n",
    "    \n",
    "cov_matrix = np.cov(X, rowvar=False)\n",
    "eigenvalues, eigenvectors = np.linalg.eigh(cov_matrix)\n",
    "idx = eigenvalues.argsort()[::-1]\n",
    "eigenvectors = eigenvectors[:,idx]\n",
    "eigenvalues = eigenvalues[idx]\n",
    "\n",
    "    \n",
    "n_components = 3\n",
    "pca = PCA(n_components=n_components)\n",
    "X = pca.fit_transform(X)\n"
   ]
  },
  {
   "cell_type": "code",
   "execution_count": 6,
   "metadata": {},
   "outputs": [
    {
     "name": "stdout",
     "output_type": "stream",
     "text": [
      "C=1, accuracy=0.5020242914979757\n"
     ]
    }
   ],
   "source": [
    "model.fit(X, y)\n",
    "validation_vectors=[]   \n",
    "for i in range(len(validation_data)):\n",
    "    validation_data[i]['phrase1'] = validation_data[i]['phrase1'].lower()\n",
    "    validation_data[i]['phrase2'] = validation_data[i]['phrase2'].lower()\n",
    "        \n",
    "    validation_data[i]['phrase1'] = remove_stopwords(validation_data[i]['phrase1'])\n",
    "    validation_data[i]['phrase2'] = remove_stopwords(validation_data[i]['phrase2'])\n",
    "        \n",
    "    avg1=get_avg(validation_data[i]['phrase1'])\n",
    "    avg2=get_avg(validation_data[i]['phrase2'])\n",
    "        \n",
    "    f1 = all(x == 0 for x in avg1)\n",
    "    f2 = all(x == 0 for x in avg2)\n",
    "    if f1 or f2:\n",
    "        continue\n",
    "    else:\n",
    "        validation_vectors.append([avg1,avg2,validation_data[i]['label']])\n",
    "\n",
    "l1 = np.array([vec[0] for vec in validation_vectors])\n",
    "l2 = np.array([vec[1] for vec in validation_vectors])\n",
    "\n",
    "X_v = np.concatenate((l1,l2),axis=1)\n",
    "\n",
    "y_v = np.array([vec[2] for vec in validation_vectors])  \n",
    "X_v = (X_v - mean) / std\n",
    "\n",
    "X_v = scaler.transform(X_v)\n",
    "X_v = pca.transform(X_v)\n",
    "\n",
    "y_pred = model.predict(X_v)\n",
    "\n",
    "accuracy = accuracy_score(y_v, y_pred)\n",
    "\n",
    "print(f\"C=1, accuracy={accuracy}\")"
   ]
  },
  {
   "cell_type": "code",
   "execution_count": 7,
   "metadata": {},
   "outputs": [
    {
     "name": "stdout",
     "output_type": "stream",
     "text": [
      "SVM, accuracy=0.5030364372469636\n"
     ]
    }
   ],
   "source": [
    "from sklearn.svm import SVC\n",
    "\n",
    "model_svm = SVC(kernel='linear', C=1)\n",
    "\n",
    "model_svm.fit(X, y)\n",
    "\n",
    "y_pred = model_svm.predict(X_v)\n",
    "\n",
    "accuracy = accuracy_score(y_v, y_pred)\n",
    "\n",
    "print(f\"SVM, accuracy={accuracy}\")\n"
   ]
  },
  {
   "cell_type": "code",
   "execution_count": 8,
   "metadata": {},
   "outputs": [
    {
     "name": "stdout",
     "output_type": "stream",
     "text": [
      "Logistic Regression, accuracy=0.5017685699848409\n",
      "SVM, accuracy=0.5032844871147044\n"
     ]
    }
   ],
   "source": [
    "test_vectors=[]\n",
    "\n",
    "for i in range(len(test_data)):\n",
    "    test_data[i]['phrase1'] = test_data[i]['phrase1'].lower()\n",
    "    test_data[i]['phrase2'] = test_data[i]['phrase2'].lower()\n",
    "        \n",
    "    test_data[i]['phrase1'] = remove_stopwords(test_data[i]['phrase1'])\n",
    "    test_data[i]['phrase2'] = remove_stopwords(test_data[i]['phrase2'])\n",
    "        \n",
    "    avg1=get_avg(test_data[i]['phrase1'])\n",
    "    avg2=get_avg(test_data[i]['phrase2'])\n",
    "        \n",
    "    f1 = all(x == 0 for x in avg1)\n",
    "    f2 = all(x == 0 for x in avg2)\n",
    "    if f1 or f2:\n",
    "        continue\n",
    "    else:\n",
    "        test_vectors.append([avg1,avg2,test_data[i]['label']])\n",
    "        \n",
    "l1 = np.array([vec[0] for vec in test_vectors])\n",
    "l2 = np.array([vec[1] for vec in test_vectors])\n",
    "\n",
    "X_t = np.concatenate((l1,l2),axis=1)\n",
    "\n",
    "y_t = np.array([vec[2] for vec in test_vectors])\n",
    "\n",
    "X_t = (X_t - mean) / std\n",
    "\n",
    "X_t = scaler.transform(X_t)\n",
    "X_t = pca.transform(X_t)\n",
    "\n",
    "y_pred = model.predict(X_t)\n",
    "y_pred_two = model_svm.predict(X_t)\n",
    "accuracy = accuracy_score(y_t, y_pred)\n",
    "accuracy_two = accuracy_score(y_t, y_pred_two)\n",
    "\n",
    "print(f\"Logistic Regression, accuracy={accuracy}\")\n",
    "print(f\"SVM, accuracy={accuracy_two}\")"
   ]
  },
  {
   "cell_type": "code",
   "execution_count": 9,
   "metadata": {},
   "outputs": [
    {
     "name": "stderr",
     "output_type": "stream",
     "text": [
      "/tmp/ipykernel_17652/500377804.py:9: RuntimeWarning: invalid value encountered in scalar divide\n",
      "  return np.dot(v1, v2) / (np.linalg.norm(v1) * np.linalg.norm(v2))\n"
     ]
    }
   ],
   "source": [
    "dicts={}\n",
    "\n",
    "for i in range(len(test_data)):\n",
    "    feature = cosine_similarity(get_avg(test_data[i]['phrase1']),get_avg(test_data[i]['phrase2']))\n",
    "    dicts[(test_data[i]['phrase1'],test_data[i]['phrase2'])]=feature\n",
    "    \n"
   ]
  },
  {
   "cell_type": "code",
   "execution_count": 10,
   "metadata": {},
   "outputs": [
    {
     "name": "stdout",
     "output_type": "stream",
     "text": [
      "Highest Value: (('general service', 'General Service'), nan)\n",
      "Lowest Value: (('open front', 'unobstructed forward-facing'), -0.15442479159477063)\n"
     ]
    }
   ],
   "source": [
    "sorted_dict = sorted(dicts.items(), key=lambda x: x[1])\n",
    "\n",
    "# Print the first element (highest value)\n",
    "print(\"Highest Value:\", sorted_dict[-1])\n",
    "\n",
    "# Print the last element (lowest value)\n",
    "print(\"Lowest Value:\", sorted_dict[0])"
   ]
  }
 ],
 "metadata": {
  "kernelspec": {
   "display_name": "Python 3",
   "language": "python",
   "name": "python3"
  },
  "language_info": {
   "codemirror_mode": {
    "name": "ipython",
    "version": 3
   },
   "file_extension": ".py",
   "mimetype": "text/x-python",
   "name": "python",
   "nbconvert_exporter": "python",
   "pygments_lexer": "ipython3",
   "version": "3.11.4"
  }
 },
 "nbformat": 4,
 "nbformat_minor": 2
}
